{
 "cells": [
  {
   "cell_type": "markdown",
   "metadata": {},
   "source": [
    "# Mini Project: Sorting and Evaluating Math Expressions"
   ]
  },
  {
   "cell_type": "markdown",
   "metadata": {},
   "source": [
    "## Week 3"
   ]
  },
  {
   "cell_type": "markdown",
   "metadata": {},
   "source": [
    "**Q1.** *Mergesort:* Modify your `mergesort(array)` function that you did in your cohort session to take one additional argument called `byfunc`, i.e. `mergesort(array, byfunc)`. If the caller does not specify the value of `byfunc`, its default value is `None`. When this argument is `None`, the function `mergesort` behaves similar to your cohort session by sorting the array according to its values. However, when the value of this argument is not `None` but rather some other function, your `mergesort` function should sort the array according to the value returned by this function. \n",
    "\n",
    "For example, instead of sorting an array of integers, we want to sort an array of tupple.\n",
    "```python\n",
    "array = [(1, 2), (3, 2), (2, -1), (4, 7), (-1, -2)]\n",
    "```\n",
    "We can define a function say `select()` as follows:\n",
    "```python\n",
    "def select(item):\n",
    "    return item[0]\n",
    "```\n",
    "\n",
    "You can then should be able to call your `mergesort()` function in the following:\n",
    "```python\n",
    "mergesort(array, select)\n",
    "```\n",
    "which will sort the list of tuples according to the value of its *first* element (recall `item[0]` in `select()`). This means that if you want to sort based on the *second* element of the tuple, you can redefine select as:\n",
    "```python\n",
    "def select(item):\n",
    "    return item[1]\n",
    "```\n",
    "\n",
    "You can also apply this to a list of objects, say `User` class objects.\n",
    "```python\n",
    "array = [<User 1>, <User 2>, <User 3>, ..., <User 101>]\n",
    "```\n",
    "You can define the following `select()` function to sort according to its `username` attribute.\n",
    "```python\n",
    "def select(item):\n",
    "    return item.username\n",
    "```\n",
    "\n",
    "You can then call the `mergesort()` function as follows:\n",
    "```python\n",
    "mergesort(array, select)\n",
    "```\n",
    "\n",
    "Python allows you to write [lambda functions](https://realpython.com/python-lambda/) to replace your `select()` function definition. You can simply call merge sort with the following without defining `select()`.\n",
    "```python\n",
    "mergesort(array, lambda item: item.username)\n",
    "```"
   ]
  },
  {
   "cell_type": "code",
   "execution_count": null,
   "metadata": {},
   "outputs": [],
   "source": [
    "def merge(array, p, q, r, f):\n",
    "    \n",
    "    start, mid, end = p, q, r\n",
    "    n_left = mid - start + 1\n",
    "    n_right = end - mid\n",
    "    left_array = [array[n] for n in range(start, mid + 1)]\n",
    "    right_array = [array[n] for n in range(mid + 1, end + 1)]\n",
    "    left_marker, right_marker = 0, 0\n",
    "    target = start\n",
    "    #print(\"Left array: {} \\n Right array: {}\\n left, right, target = {},{},{}\".format(left_array, right_array,left_marker,right_marker,target))\n",
    "    while left_marker < n_left and right_marker < n_right:\n",
    "        if f(left_array[left_marker]) <= f(right_array[right_marker]):   #  <---- calling the function here to compare the elements\n",
    "            array[target] = left_array[left_marker]\n",
    "            left_marker += 1\n",
    "        else:\n",
    "            array[target] = right_array[right_marker]\n",
    "            right_marker += 1\n",
    "        target += 1\n",
    "    while left_marker < n_left:\n",
    "        array[target] = left_array[left_marker]\n",
    "        left_marker += 1\n",
    "        target += 1\n",
    "    while right_marker < n_right:\n",
    "        array[target] = right_array[right_marker]\n",
    "        right_marker += 1\n",
    "        target += 1\n",
    "\n",
    "\n",
    "def mergesort_recursive(array, p, r, func):\n",
    "    start, end = p, r\n",
    "    if end - start > 0:\n",
    "        mid = (start + end) //2\n",
    "        mergesort_recursive(array, start, mid, func)\n",
    "        mergesort_recursive(array, mid +1, end, func)\n",
    "        merge(array, start, mid, end, func)\n",
    "\n",
    "def mergesort(array, byfunc=None):\n",
    "    if byfunc is None:\n",
    "        byfunc = lambda x: x\n",
    "    mergesort_recursive(array, 0, len(array) - 1, byfunc)"
   ]
  },
  {
   "cell_type": "code",
   "execution_count": 4,
   "metadata": {},
   "outputs": [],
   "source": [
    "array = [(1, 2), (3, 2), (2, -1), (4, 7), (-1, -2)]\n",
    "mergesort(array, lambda item: item[0])\n",
    "assert array == [(-1, -2), (1, 2), (2, -1), (3, 2), (4, 7)]\n",
    "mergesort(array, lambda item: item[1])\n",
    "assert array == [(-1, -2), (2, -1), (1, 2), (3, 2), (4, 7)] or [(-1, -2), (2, -1), (3, 2), (1, 2), (4, 7)]"
   ]
  },
  {
   "cell_type": "markdown",
   "metadata": {},
   "source": [
    "**Q2.** Create a class called `EvaluateExpression` to evaluate mathematical expressions for Integers. The class has the following property:\n",
    "- `expression`: which is a property with a get and set method. The set method of this property should check if the string contains any invalid characters. If there is any invalid character, it should set the internal property `expr` to an empty String. Otherwise, it should set the string as it is. Valid characters are: `0123456789+-*/()` and an empty space.\n",
    "- `expr`: which is a property that stores only valid expression. It is used internally to store the expression.\n",
    "\n",
    "During object instantiation, a string can be passed on to `__init__()`.\n",
    "- `__init__(expr)`: where expr is the mathematical expression to initialize the property `expr`. If nothing is provided it should initialize to an empty String. If the string contains other characters besides those in the valid characters list above, the property `expr` should be initialized to an empty string.\n",
    "\n",
    "\n"
   ]
  },
  {
   "cell_type": "code",
   "execution_count": 8,
   "metadata": {},
   "outputs": [],
   "source": [
    "class EvaluateExpression:\n",
    "  valid_char = '0123456789+-*/() '\n",
    "  def __init__(self, string=\"\"):\n",
    "    self.expression = string\n",
    "\n",
    "  @property\n",
    "  def expression(self):\n",
    "    return self.expr\n",
    "\n",
    "  @expression.setter\n",
    "  def expression(self, new_expr):\n",
    "    for char in new_expr:\n",
    "      if char not in self.valid_char:\n",
    "        self.expr = \"\"\n",
    "        return\n",
    "    self.expr = new_expr\n",
    "\n",
    "\n",
    "  "
   ]
  },
  {
   "cell_type": "code",
   "execution_count": 9,
   "metadata": {},
   "outputs": [],
   "source": [
    "expr1 = EvaluateExpression()\n",
    "assert expr1.expression == \"\"\n",
    "expr2 = EvaluateExpression(\"1 + 2\")\n",
    "assert expr2.expression == \"1 + 2\"\n",
    "expr2.expression = \"3 * 4\"\n",
    "assert expr2.expression == \"3 * 4\"\n",
    "expr2.expression = \"3 & 4\"\n",
    "assert expr2.expression == \"\""
   ]
  },
  {
   "cell_type": "markdown",
   "metadata": {},
   "source": [
    "**Q3.** The class `EvaluateExpression` also has the following method:\n",
    "- `insert_space()`: which is used to insert one empty space before an operator and another empty space after the operator in the `expression` property. The function should return a new String. Note that this means that if there are two operators side by side, there will be two empty space between them.\n",
    "\n"
   ]
  },
  {
   "cell_type": "code",
   "execution_count": 2,
   "metadata": {},
   "outputs": [],
   "source": [
    "class EvaluateExpression:\n",
    "  # copy the other definitions\n",
    "  # from the previous parts\n",
    "  valid_char = '0123456789+-*/() '\n",
    "  def __init__(self, string=\"\"):\n",
    "    self.expression = string\n",
    "\n",
    "  @property\n",
    "  def expression(self):\n",
    "    return self.expr\n",
    "\n",
    "  @expression.setter\n",
    "  def expression(self, new_expr):\n",
    "    for char in new_expr:\n",
    "      if char not in self.valid_char:\n",
    "        self.expr = \"\"\n",
    "        return\n",
    "    self.expr = new_expr\n",
    "  \n",
    "\n",
    "  def insert_space(self):\n",
    "    new_str = \"\"\n",
    "    for char in self.expression:\n",
    "      new_str += char if char not in \"+-*/()\" else ' ' + char + ' '\n",
    "    return new_str"
   ]
  },
  {
   "cell_type": "code",
   "execution_count": 4,
   "metadata": {},
   "outputs": [
    {
     "name": "stdout",
     "output_type": "stream",
     "text": [
      "60 /  4\n"
     ]
    }
   ],
   "source": [
    "expr1 = EvaluateExpression(\"(1+2)\")\n",
    "assert expr1.insert_space() == \" ( 1 + 2 ) \"\n",
    "expr1.expression = \"((1+2)*3/(4-5))\"\n",
    "assert expr1.insert_space() == \" (  ( 1 + 2 )  * 3 /  ( 4 - 5 )  ) \"\n",
    "expr1.expression = \"60/ 4\"\n",
    "print(expr1.insert_space())"
   ]
  },
  {
   "cell_type": "markdown",
   "metadata": {},
   "source": [
    "## Week 4"
   ]
  },
  {
   "cell_type": "markdown",
   "metadata": {},
   "source": [
    "**Q4.** The class `EvaluateExpression` also has the following methods:\n",
    "- `process_operator(operand_stack, operator_stack)`: which process one operator. This method should modify the Stacks provided in the arguments. Note that the division operator `/` should be considered as an integer division for this exercise. This means that you need to use `//` in Python."
   ]
  },
  {
   "cell_type": "code",
   "execution_count": 8,
   "metadata": {},
   "outputs": [],
   "source": [
    "class Stack:\n",
    "    def __init__(self) -> None:\n",
    "        self.__items = []\n",
    "        \n",
    "    def push(self, item):\n",
    "        self.__items.append(item)\n",
    "\n",
    "    def pop(self):\n",
    "        return self.__items.pop() if not self.is_empty else None\n",
    "\n",
    "    def peek(self):\n",
    "        return None if self.is_empty else self.__items[-1]\n",
    "\n",
    "    @property\n",
    "    def is_empty(self) -> bool:\n",
    "        return self.__items == []\n",
    "\n",
    "    @property\n",
    "    def size(self):\n",
    "        return len(self.__items)\n",
    "\n",
    "    @property\n",
    "    def items (self):\n",
    "        return self.__items\n"
   ]
  },
  {
   "cell_type": "code",
   "execution_count": 14,
   "metadata": {},
   "outputs": [],
   "source": [
    "class EvaluateExpression:\n",
    "  # copy the other definitions\n",
    "  # from the previous parts\n",
    "  op = {'+': lambda x, y: x + y,\n",
    "          '-': lambda x, y: x - y,\n",
    "          '*': lambda x, y: x * y,\n",
    "          '/': lambda x, y: x // y}\n",
    "  valid_char = '0123456789+-*/() '\n",
    "  def __init__(self, string=\"\"):\n",
    "    self.expression = string\n",
    "\n",
    "  @property\n",
    "  def expression(self):\n",
    "    return self.expr\n",
    "\n",
    "  @expression.setter\n",
    "  def expression(self, new_expr):\n",
    "    for char in new_expr:\n",
    "      if char not in self.valid_char:\n",
    "        self.expr = \"\"\n",
    "        return\n",
    "    self.expr = new_expr\n",
    "  \n",
    "\n",
    "  def insert_space(self):\n",
    "    new_str = \"\"\n",
    "    for char in self.expression:\n",
    "      new_str += char if char not in \"+-*/()\" else ' ' + char + ' '\n",
    "    return new_str\n",
    "  \n",
    "  def process_operator(self, operand_stack, operator_stack):\n",
    "    operator = operator_stack.pop()\n",
    "    right_op, left_op = operand_stack.pop(), operand_stack.pop()\n",
    "    operand_stack.push(self.op[operator](left_op, right_op))\n",
    "    \n",
    "  "
   ]
  },
  {
   "cell_type": "code",
   "execution_count": 15,
   "metadata": {},
   "outputs": [],
   "source": [
    "expr1 = EvaluateExpression()\n",
    "operand_stack = Stack()\n",
    "operator_stack = Stack()\n",
    "operand_stack.push(3)\n",
    "operand_stack.push(4)\n",
    "operator_stack.push(\"+\")\n",
    "expr1.process_operator(operand_stack, operator_stack)\n",
    "assert operand_stack.peek() == 7\n",
    "operand_stack.push(5)\n",
    "operator_stack.push(\"*\")\n",
    "expr1.process_operator(operand_stack, operator_stack)\n",
    "assert operand_stack.peek() == 35\n",
    "operand_stack.push(30)\n",
    "operator_stack.push(\"-\")\n",
    "expr1.process_operator(operand_stack, operator_stack)\n",
    "assert operand_stack.peek() == 5\n",
    "operand_stack.push(2)\n",
    "operator_stack.push(\"/\")\n",
    "expr1.process_operator(operand_stack, operator_stack)\n",
    "assert operand_stack.peek() == 2"
   ]
  },
  {
   "cell_type": "markdown",
   "metadata": {},
   "source": [
    "**Q5.** The class `EvaluateExpression` also has the following methods:\n",
    "- `evaluate()`: which evaluate the mathematical expression contained in the property `expression`. The method should return an Integer. This method contains two processes:\n",
    "    - Phase 1: In this phase, the code scans the expression from left to right to extract operands, operators, and the parentheses.\n",
    "        1. If the extracted character is an operand, push it to `operand_stack`.\n",
    "        1. If the extracted character is + or - operator, process  all the operators at the top of the `operator_stack` and push the extracted operator to `operator_stack`. You should process all the operators as long as the `operator_stack` is not empty and the top of the `operator_stack` is not `(` or `)` symbols.\n",
    "        1. If the extracted character is a `*` or `/` operator, process all the `*` or `/` operators at the top of the `operator_stack` and push the extracted operator to `operator_stack`. \n",
    "        1. If the extracted character is a `(` symbol, push it to `operator_stack`.\n",
    "        1. If the extracted character is a `)` symbol, repeatedly process the operators from the top of `operator_stack` until seeing the `(` symbol on the stack. \n",
    "    - Phase 2: Repeatedly process the operators from the top of `operator_stack` until `operator_stack` is empty.\n"
   ]
  },
  {
   "cell_type": "code",
   "execution_count": null,
   "metadata": {},
   "outputs": [],
   "source": [
    "class EvaluateExpression:\n",
    "  # copy the other definitions\n",
    "  # from the previous parts\n",
    "  op = {'+': lambda x, y: x + y,\n",
    "          '-': lambda x, y: x - y,\n",
    "          '*': lambda x, y: x * y,\n",
    "          '/': lambda x, y: x // y}\n",
    "  valid_char = '0123456789+-*/() '\n",
    "  def __init__(self, string=\"\"):\n",
    "    self.expression = string\n",
    "\n",
    "  @property\n",
    "  def expression(self):\n",
    "    return self.expr\n",
    "\n",
    "  @expression.setter\n",
    "  def expression(self, new_expr):\n",
    "    for char in new_expr:\n",
    "      if char not in self.valid_char:\n",
    "        self.expr = \"\"\n",
    "        return\n",
    "    self.expr = new_expr\n",
    "  \n",
    "\n",
    "  def insert_space(self):\n",
    "    new_str = \"\"\n",
    "    for char in self.expression:\n",
    "      new_str += char if char not in \"+-*/()\" else ' ' + char + ' '\n",
    "    return new_str\n",
    "  \n",
    "  def process_operator(self, operand_stack, operator_stack):\n",
    "    operator = operator_stack.pop()\n",
    "    right_op, left_op = operand_stack.pop(), operand_stack.pop()\n",
    "    print(left_op, right_op)\n",
    "    operand_stack.push(self.op[operator](left_op, right_op))\n",
    "  \n",
    "\n",
    "  def evaluate(self):\n",
    "    operand_stack = Stack()\n",
    "    operator_stack = Stack()\n",
    "    expression = self.insert_space()\n",
    "    tokens = expression.split()\n",
    "\n",
    "    ##Phase 1\n",
    "    for char in tokens:\n",
    "      if char.isnumeric():\n",
    "        operand_stack.push(int(char))\n",
    "      elif char in \"+-\":\n",
    "        while not operator_stack.is_empty and operator_stack.peek() != \"(\":\n",
    "          self.process_operator(operand_stack, operator_stack)\n",
    "        operator_stack.push(char)\n",
    "      elif char in \"*/\":\n",
    "        while not operator_stack.is_empty and operator_stack.peek() in \"*/\" and operator_stack.peek() != \"(\":\n",
    "          self.process_operator(operand_stack, operator_stack)\n",
    "        operator_stack.push(char)\n",
    "      elif char == \"(\":\n",
    "        operator_stack.push(char)\n",
    "      elif char == \")\":\n",
    "        while operator_stack.peek() != \"(\":\n",
    "          self.process_operator(operand_stack, operator_stack)\n",
    "        operator_stack.pop()\n",
    "\n",
    "      #print(\"checking char : \", char, operand_stack.items, operator_stack.items)\n",
    "\n",
    "    ##Phase 2\n",
    "    while not operator_stack.is_empty:\n",
    "        self.process_operator(operand_stack, operator_stack)\n",
    "    return operand_stack.pop()\n"
   ]
  },
  {
   "cell_type": "code",
   "execution_count": 18,
   "metadata": {},
   "outputs": [
    {
     "name": "stdout",
     "output_type": "stream",
     "text": [
      "None 4\n"
     ]
    },
    {
     "ename": "TypeError",
     "evalue": "unsupported operand type(s) for //: 'NoneType' and 'int'",
     "output_type": "error",
     "traceback": [
      "\u001b[1;31m---------------------------------------------------------------------------\u001b[0m",
      "\u001b[1;31mTypeError\u001b[0m                                 Traceback (most recent call last)",
      "Cell \u001b[1;32mIn[18], line 8\u001b[0m\n\u001b[0;32m      1\u001b[0m \u001b[38;5;66;03m# expr1 = EvaluateExpression(\"(1+2)*3\")\u001b[39;00m\n\u001b[0;32m      2\u001b[0m \u001b[38;5;66;03m# assert expr1.evaluate() == 9\u001b[39;00m\n\u001b[0;32m      3\u001b[0m \u001b[38;5;66;03m# expr1.expression = \"(1 + 2) * 4 - 3\"\u001b[39;00m\n\u001b[0;32m      4\u001b[0m \u001b[38;5;66;03m# assert expr1.evaluate() == 9\u001b[39;00m\n\u001b[0;32m      5\u001b[0m \u001b[38;5;66;03m# expr2 = EvaluateExpression(\"(1+2 *4-  3)* (7/5 * 6)\")\u001b[39;00m\n\u001b[0;32m      6\u001b[0m \u001b[38;5;66;03m# assert expr2.evaluate() == 36\u001b[39;00m\n\u001b[0;32m      7\u001b[0m expr1\u001b[38;5;241m.\u001b[39mexpression \u001b[38;5;241m=\u001b[39m \u001b[38;5;124m\"\u001b[39m\u001b[38;5;124m60/ 4\u001b[39m\u001b[38;5;124m\"\u001b[39m\n\u001b[1;32m----> 8\u001b[0m \u001b[38;5;28mprint\u001b[39m(\u001b[43mexpr1\u001b[49m\u001b[38;5;241;43m.\u001b[39;49m\u001b[43mevaluate\u001b[49m\u001b[43m(\u001b[49m\u001b[43m)\u001b[49m)\n",
      "Cell \u001b[1;32mIn[11], line 67\u001b[0m, in \u001b[0;36mEvaluateExpression.evaluate\u001b[1;34m(self)\u001b[0m\n\u001b[0;32m     63\u001b[0m   \u001b[38;5;66;03m#print(\"checking char : \", char, operand_stack.items, operator_stack.items)\u001b[39;00m\n\u001b[0;32m     64\u001b[0m \n\u001b[0;32m     65\u001b[0m \u001b[38;5;66;03m##Phase 2\u001b[39;00m\n\u001b[0;32m     66\u001b[0m \u001b[38;5;28;01mwhile\u001b[39;00m \u001b[38;5;129;01mnot\u001b[39;00m operator_stack\u001b[38;5;241m.\u001b[39mis_empty:\n\u001b[1;32m---> 67\u001b[0m     \u001b[38;5;28;43mself\u001b[39;49m\u001b[38;5;241;43m.\u001b[39;49m\u001b[43mprocess_operator\u001b[49m\u001b[43m(\u001b[49m\u001b[43moperand_stack\u001b[49m\u001b[43m,\u001b[49m\u001b[43m \u001b[49m\u001b[43moperator_stack\u001b[49m\u001b[43m)\u001b[49m\n\u001b[0;32m     68\u001b[0m \u001b[38;5;28;01mreturn\u001b[39;00m operand_stack\u001b[38;5;241m.\u001b[39mpop()\n",
      "Cell \u001b[1;32mIn[11], line 35\u001b[0m, in \u001b[0;36mEvaluateExpression.process_operator\u001b[1;34m(self, operand_stack, operator_stack)\u001b[0m\n\u001b[0;32m     33\u001b[0m right_op, left_op \u001b[38;5;241m=\u001b[39m operand_stack\u001b[38;5;241m.\u001b[39mpop(), operand_stack\u001b[38;5;241m.\u001b[39mpop()\n\u001b[0;32m     34\u001b[0m \u001b[38;5;28mprint\u001b[39m(left_op, right_op)\n\u001b[1;32m---> 35\u001b[0m operand_stack\u001b[38;5;241m.\u001b[39mpush(\u001b[38;5;28;43mself\u001b[39;49m\u001b[38;5;241;43m.\u001b[39;49m\u001b[43mop\u001b[49m\u001b[43m[\u001b[49m\u001b[43moperator\u001b[49m\u001b[43m]\u001b[49m\u001b[43m(\u001b[49m\u001b[43mleft_op\u001b[49m\u001b[43m,\u001b[49m\u001b[43m \u001b[49m\u001b[43mright_op\u001b[49m\u001b[43m)\u001b[49m)\n",
      "Cell \u001b[1;32mIn[11], line 7\u001b[0m, in \u001b[0;36mEvaluateExpression.<lambda>\u001b[1;34m(x, y)\u001b[0m\n\u001b[0;32m      1\u001b[0m \u001b[38;5;28;01mclass\u001b[39;00m \u001b[38;5;21;01mEvaluateExpression\u001b[39;00m:\n\u001b[0;32m      2\u001b[0m   \u001b[38;5;66;03m# copy the other definitions\u001b[39;00m\n\u001b[0;32m      3\u001b[0m   \u001b[38;5;66;03m# from the previous parts\u001b[39;00m\n\u001b[0;32m      4\u001b[0m   op \u001b[38;5;241m=\u001b[39m {\u001b[38;5;124m'\u001b[39m\u001b[38;5;124m+\u001b[39m\u001b[38;5;124m'\u001b[39m: \u001b[38;5;28;01mlambda\u001b[39;00m x, y: x \u001b[38;5;241m+\u001b[39m y,\n\u001b[0;32m      5\u001b[0m           \u001b[38;5;124m'\u001b[39m\u001b[38;5;124m-\u001b[39m\u001b[38;5;124m'\u001b[39m: \u001b[38;5;28;01mlambda\u001b[39;00m x, y: x \u001b[38;5;241m-\u001b[39m y,\n\u001b[0;32m      6\u001b[0m           \u001b[38;5;124m'\u001b[39m\u001b[38;5;124m*\u001b[39m\u001b[38;5;124m'\u001b[39m: \u001b[38;5;28;01mlambda\u001b[39;00m x, y: x \u001b[38;5;241m*\u001b[39m y,\n\u001b[1;32m----> 7\u001b[0m           \u001b[38;5;124m'\u001b[39m\u001b[38;5;124m/\u001b[39m\u001b[38;5;124m'\u001b[39m: \u001b[38;5;28;01mlambda\u001b[39;00m x, y: \u001b[43mx\u001b[49m\u001b[43m \u001b[49m\u001b[38;5;241;43m/\u001b[39;49m\u001b[38;5;241;43m/\u001b[39;49m\u001b[43m \u001b[49m\u001b[43my\u001b[49m}\n\u001b[0;32m      8\u001b[0m   valid_char \u001b[38;5;241m=\u001b[39m \u001b[38;5;124m'\u001b[39m\u001b[38;5;124m0123456789+-*/() \u001b[39m\u001b[38;5;124m'\u001b[39m\n\u001b[0;32m      9\u001b[0m   \u001b[38;5;28;01mdef\u001b[39;00m \u001b[38;5;21m__init__\u001b[39m(\u001b[38;5;28mself\u001b[39m, string\u001b[38;5;241m=\u001b[39m\u001b[38;5;124m\"\u001b[39m\u001b[38;5;124m\"\u001b[39m):\n",
      "\u001b[1;31mTypeError\u001b[0m: unsupported operand type(s) for //: 'NoneType' and 'int'"
     ]
    }
   ],
   "source": [
    "# expr1 = EvaluateExpression(\"(1+2)*3\")\n",
    "# assert expr1.evaluate() == 9\n",
    "# expr1.expression = \"(1 + 2) * 4 - 3\"\n",
    "# assert expr1.evaluate() == 9\n",
    "# expr2 = EvaluateExpression(\"(1+2 *4-  3)* (7/5 * 6)\")\n",
    "# assert expr2.evaluate() == 36\n",
    "expr1.expression = \"60/ 4\"\n",
    "print(expr1.evaluate())"
   ]
  },
  {
   "cell_type": "code",
   "execution_count": null,
   "metadata": {},
   "outputs": [],
   "source": []
  }
 ],
 "metadata": {
  "kernelspec": {
   "display_name": "mp_calc-mQGdxE0D",
   "language": "python",
   "name": "python3"
  },
  "language_info": {
   "codemirror_mode": {
    "name": "ipython",
    "version": 3
   },
   "file_extension": ".py",
   "mimetype": "text/x-python",
   "name": "python",
   "nbconvert_exporter": "python",
   "pygments_lexer": "ipython3",
   "version": "3.11.0"
  }
 },
 "nbformat": 4,
 "nbformat_minor": 4
}
